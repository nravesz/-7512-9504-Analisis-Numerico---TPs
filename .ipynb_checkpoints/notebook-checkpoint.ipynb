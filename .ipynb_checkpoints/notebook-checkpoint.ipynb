{
 "cells": [
  {
   "cell_type": "markdown",
   "metadata": {},
   "source": [
    "# Funciones continuas y con raíz única a las cuales se les calculará la raíz en el intervalo [0, 2]:"
   ]
  },
  {
   "cell_type": "markdown",
   "metadata": {},
   "source": [
    "$ f_{1}(x) = x^{2}-2 $\n",
    "\n",
    "$ f_{2}(x) = x^{5}-6.6x^{4}+5.12x^{3}+21.312x^{2}-38.016x+17.28 $\n",
    "\n",
    "$ f_{3}(x) = (x-1.5)e^{-4(x-1.5)^{2}} $"
   ]
  },
  {
   "cell_type": "markdown",
   "metadata": {},
   "source": [
    "#### Imports"
   ]
  },
  {
   "cell_type": "code",
   "execution_count": 1,
   "metadata": {},
   "outputs": [],
   "source": [
    "import pandas as pd\n",
    "import common\n",
    "import metodosDeBusqueda as metodo\n",
    "import funciones as f"
   ]
  },
  {
   "cell_type": "markdown",
   "metadata": {},
   "source": [
    "#### Funciones auxiliares (despues las paso al common):"
   ]
  },
  {
   "cell_type": "code",
   "execution_count": 2,
   "metadata": {},
   "outputs": [],
   "source": [
    "def crear_df_historial_iteraciones(historial):\n",
    "    df = pd.DataFrame(historial)\n",
    "    df.columns = ['raiz']\n",
    "    df.index.name = 'iteracion'\n",
    "    df.index = df.index + 1\n",
    "    return df"
   ]
  },
  {
   "cell_type": "markdown",
   "metadata": {},
   "source": [
    "#### Configuraciones"
   ]
  },
  {
   "cell_type": "code",
   "execution_count": 3,
   "metadata": {},
   "outputs": [],
   "source": [
    "pd.set_option(\"display.precision\", 16)"
   ]
  },
  {
   "cell_type": "code",
   "execution_count": null,
   "metadata": {},
   "outputs": [],
   "source": [
    "df = pd.read_csv('raices.csv')"
   ]
  },
  {
   "cell_type": "markdown",
   "metadata": {},
   "source": [
    "# b) Halle para cada una de ellas la raíz en el intervalo indicado mediante los métodos vistos en clase (Bisección, Newton-Raphson, Newton-Raphson modificado, Secante). Use para todos los métodos como criterio de parada las siguientes cotas: $1\\cdot 10^{5}$, $1\\cdot 10^{13}$, para Newton-Raphson use semilla $x_{0} = 1.0$, para secante use como semillas los extremos del intervalo."
   ]
  },
  {
   "cell_type": "markdown",
   "metadata": {},
   "source": [
    "## Busqueda de raíz de $ f_{1}(x) = x^{2}-2 $:"
   ]
  },
  {
   "cell_type": "code",
   "execution_count": null,
   "metadata": {},
   "outputs": [],
   "source": [
    "f1_tolerancia1_bis, f1_tolerancia1_nr, f1_tolerancia1_sec, f1_tolerancia1_nrmod = common.aplicar_metodos(f1, 1e-5, (0, 2), 1)\n",
    "f1_tolerancia2_bis, f1_tolerancia2_nr, f1_tolerancia2_sec, f1_tolerancia2_nrmod = common.aplicar_metodos(f1, 1e-13, (0, 2), 1)"
   ]
  },
  {
   "cell_type": "markdown",
   "metadata": {},
   "source": [
    "### Bisección"
   ]
  },
  {
   "cell_type": "code",
   "execution_count": null,
   "metadata": {},
   "outputs": [],
   "source": [
    "df_f1_tolerancia1_biseccion = crear_df_historial_iteraciones(f1_tolerancia1_bis)\n",
    "df_f1_tolerancia2_biseccion = crear_df_historial_iteraciones(f1_tolerancia2_bis)"
   ]
  },
  {
   "cell_type": "markdown",
   "metadata": {},
   "source": [
    "- Con cota de error $1\\cdot 10^{-5}$:"
   ]
  },
  {
   "cell_type": "code",
   "execution_count": null,
   "metadata": {},
   "outputs": [],
   "source": [
    "df_f1_tolerancia1_biseccion"
   ]
  },
  {
   "cell_type": "markdown",
   "metadata": {},
   "source": [
    "Raiz que cumple con la cota $1\\cdot 10^{-5}$:"
   ]
  },
  {
   "cell_type": "code",
   "execution_count": null,
   "metadata": {},
   "outputs": [],
   "source": [
    "df_f1_tolerancia1_biseccion.tail(1)"
   ]
  },
  {
   "cell_type": "markdown",
   "metadata": {},
   "source": [
    "- Con cota de error $1\\cdot 10^{-13}$:"
   ]
  },
  {
   "cell_type": "code",
   "execution_count": null,
   "metadata": {},
   "outputs": [],
   "source": [
    "df_f1_tolerancia2_biseccion"
   ]
  },
  {
   "cell_type": "markdown",
   "metadata": {},
   "source": [
    "Raiz que cumple con la cota $1\\cdot 10^{-13}$:"
   ]
  },
  {
   "cell_type": "code",
   "execution_count": null,
   "metadata": {},
   "outputs": [],
   "source": [
    "df_f1_tolerancia2_biseccion.tail(1)"
   ]
  }
 ],
 "metadata": {
  "kernelspec": {
   "display_name": "Python 3",
   "language": "python",
   "name": "python3"
  },
  "language_info": {
   "codemirror_mode": {
    "name": "ipython",
    "version": 3
   },
   "file_extension": ".py",
   "mimetype": "text/x-python",
   "name": "python",
   "nbconvert_exporter": "python",
   "pygments_lexer": "ipython3",
   "version": "3.6.0"
  }
 },
 "nbformat": 4,
 "nbformat_minor": 4
}
